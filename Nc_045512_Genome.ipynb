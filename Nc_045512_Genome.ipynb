{
 "cells": [
  {
   "cell_type": "code",
   "execution_count": 1,
   "id": "0b0b6bef-acd0-41cc-ab59-0b461c45b8d0",
   "metadata": {},
   "outputs": [
    {
     "data": {
      "text/plain": [
       "'C:\\\\Users\\\\hp\\\\Desktop\\\\Other\\\\Coding_Projects\\\\Simple_Coding_Examples'"
      ]
     },
     "execution_count": 1,
     "metadata": {},
     "output_type": "execute_result"
    }
   ],
   "source": [
    "pwd"
   ]
  },
  {
   "cell_type": "code",
   "execution_count": 2,
   "id": "6236c591-6b33-4948-84ef-a490df9f87fa",
   "metadata": {},
   "outputs": [
    {
     "data": {
      "text/html": [
       "<details>\n",
       "<summary>Click to view session information</summary>\n",
       "<pre>\n",
       "-----\n",
       "session_info        1.0.0\n",
       "-----\n",
       "</pre>\n",
       "<details>\n",
       "<summary>Click to view modules imported as dependencies</summary>\n",
       "<pre>\n",
       "asttokens           NA\n",
       "backcall            0.2.0\n",
       "colorama            0.4.4\n",
       "comm                0.1.2\n",
       "cython_runtime      NA\n",
       "dateutil            2.8.2\n",
       "debugpy             1.6.6\n",
       "decorator           5.1.1\n",
       "entrypoints         0.4\n",
       "executing           0.8.3\n",
       "google              NA\n",
       "ipykernel           6.21.2\n",
       "ipython_genutils    0.2.0\n",
       "jedi                0.18.1\n",
       "jupyter_server      1.18.1\n",
       "mpl_toolkits        NA\n",
       "nt                  NA\n",
       "ntsecuritycon       NA\n",
       "packaging           21.3\n",
       "parso               0.8.3\n",
       "pickleshare         0.7.5\n",
       "pkg_resources       NA\n",
       "platformdirs        3.0.0\n",
       "prompt_toolkit      3.0.37\n",
       "psutil              5.9.1\n",
       "pure_eval           0.2.2\n",
       "pydev_ipython       NA\n",
       "pydevconsole        NA\n",
       "pydevd              2.9.5\n",
       "pydevd_file_utils   NA\n",
       "pydevd_plugins      NA\n",
       "pydevd_tracing      NA\n",
       "pygments            2.12.0\n",
       "pythoncom           NA\n",
       "pywintypes          NA\n",
       "six                 1.16.0\n",
       "stack_data          0.2.0\n",
       "tornado             6.1\n",
       "traitlets           5.9.0\n",
       "wcwidth             0.2.5\n",
       "win32api            NA\n",
       "win32com            NA\n",
       "win32security       NA\n",
       "zmq                 23.1.0\n",
       "</pre>\n",
       "</details> <!-- seems like this ends pre, so might as well be explicit -->\n",
       "<pre>\n",
       "-----\n",
       "IPython             8.4.0\n",
       "jupyter_client      7.3.3\n",
       "jupyter_core        5.2.0\n",
       "jupyterlab          3.4.4\n",
       "notebook            6.4.11\n",
       "-----\n",
       "Python 3.10.4 | packaged by conda-forge | (main, Mar 30 2022, 08:38:02) [MSC v.1916 64 bit (AMD64)]\n",
       "Windows-10-10.0.19042-SP0\n",
       "-----\n",
       "Session information updated at 2023-04-02 13:12\n",
       "</pre>\n",
       "</details>"
      ],
      "text/plain": [
       "<IPython.core.display.HTML object>"
      ]
     },
     "execution_count": 2,
     "metadata": {},
     "output_type": "execute_result"
    }
   ],
   "source": [
    "# see the info of the notebook\n",
    "import session_info\n",
    "session_info.show()"
   ]
  },
  {
   "cell_type": "code",
   "execution_count": 3,
   "id": "dbc7da5c-8e65-4650-950a-4f0c3a3f8766",
   "metadata": {},
   "outputs": [],
   "source": [
    "# import libs.\n",
    "import pandas as pd\n",
    "import numpy as np"
   ]
  },
  {
   "cell_type": "markdown",
   "id": "56ce28c2-7cf4-4f4b-8305-c5fddb6c84b7",
   "metadata": {},
   "source": [
    "# Import the data file in fasta fromat"
   ]
  },
  {
   "cell_type": "code",
   "execution_count": 4,
   "id": "236fd316-1938-4982-975f-6ad0ab41b755",
   "metadata": {},
   "outputs": [
    {
     "data": {
      "text/plain": [
       "(Index(['Genome Sequence'], dtype='object'), (428, 1))"
      ]
     },
     "execution_count": 4,
     "metadata": {},
     "output_type": "execute_result"
    }
   ],
   "source": [
    "df = pd.read_csv('SARS_CORONAVIRUS_NC_045512_sequence.fasta', header = None)[1:][0]\n",
    "df = pd.DataFrame(df)\n",
    "df.columns = ['Genome Sequence']\n",
    "df.columns, df.shape"
   ]
  },
  {
   "cell_type": "markdown",
   "id": "6a4273a8-4c4e-46c5-8153-b5096c5c0360",
   "metadata": {},
   "source": [
    "# Filtering \n",
    "Remove seqs less than the median length"
   ]
  },
  {
   "cell_type": "code",
   "execution_count": 7,
   "id": "72302da0-c0b2-4419-904e-2328492d8332",
   "metadata": {},
   "outputs": [],
   "source": [
    "# Find the length of each sequence in the DataFrame and store the result in a new column named 'Length'.\n",
    "lengths = []\n",
    "for i in df['Genome Sequence']:\n",
    "    lengths.append(len(i))\n",
    "    \n",
    "df['Length'] = lengths\n",
    "# Calculate the median length of the genome sequences and store the result in a variable named 'median_len'.\n",
    "median_len = df['Length'].median()\n",
    "\n",
    "# Remove all rows from the DataFrame that do not have the length equal to the median length.\n",
    "df.drop(df.loc[df['Length'] != median_len].index, inplace=True)"
   ]
  },
  {
   "cell_type": "markdown",
   "id": "6bfc1e91-d4f5-4ff4-9c10-38be4c255e6c",
   "metadata": {},
   "source": [
    "# Matching\n",
    "Find matches of a sub-sequences\n"
   ]
  },
  {
   "cell_type": "code",
   "execution_count": 8,
   "id": "b80bddc1-6427-450a-a945-a772f683c324",
   "metadata": {},
   "outputs": [
    {
     "data": {
      "text/html": [
       "<div>\n",
       "<style scoped>\n",
       "    .dataframe tbody tr th:only-of-type {\n",
       "        vertical-align: middle;\n",
       "    }\n",
       "\n",
       "    .dataframe tbody tr th {\n",
       "        vertical-align: top;\n",
       "    }\n",
       "\n",
       "    .dataframe thead th {\n",
       "        text-align: right;\n",
       "    }\n",
       "</style>\n",
       "<table border=\"1\" class=\"dataframe\">\n",
       "  <thead>\n",
       "    <tr style=\"text-align: right;\">\n",
       "      <th></th>\n",
       "      <th>Genome Sequence</th>\n",
       "      <th>Length</th>\n",
       "      <th>Match</th>\n",
       "    </tr>\n",
       "  </thead>\n",
       "  <tbody>\n",
       "    <tr>\n",
       "      <th>1</th>\n",
       "      <td>ATTAAAGGTTTATACCTTCCCAGGTAACAAACCAACCAACTTTCGA...</td>\n",
       "      <td>70</td>\n",
       "      <td>0</td>\n",
       "    </tr>\n",
       "    <tr>\n",
       "      <th>2</th>\n",
       "      <td>CGAACTTTAAAATCTGTGTGGCTGTCACTCGGCTGCATGCTTAGTG...</td>\n",
       "      <td>70</td>\n",
       "      <td>0</td>\n",
       "    </tr>\n",
       "    <tr>\n",
       "      <th>3</th>\n",
       "      <td>TAATTACTGTCGTTGACAGGACACGAGTAACTCGTCTATCTTCTGC...</td>\n",
       "      <td>70</td>\n",
       "      <td>0</td>\n",
       "    </tr>\n",
       "    <tr>\n",
       "      <th>4</th>\n",
       "      <td>TTGCAGCCGATCATCAGCACATCTAGGTTTCGTCCGGGTGTGACCG...</td>\n",
       "      <td>70</td>\n",
       "      <td>0</td>\n",
       "    </tr>\n",
       "    <tr>\n",
       "      <th>5</th>\n",
       "      <td>CCTGGTTTCAACGAGAAAACACACGTCCAACTCAGTTTGCCTGTTT...</td>\n",
       "      <td>70</td>\n",
       "      <td>0</td>\n",
       "    </tr>\n",
       "    <tr>\n",
       "      <th>...</th>\n",
       "      <td>...</td>\n",
       "      <td>...</td>\n",
       "      <td>...</td>\n",
       "    </tr>\n",
       "    <tr>\n",
       "      <th>423</th>\n",
       "      <td>CAGACCACACAAGGCAGATGGGCTATATAAACGTTTTCGCTTTTCC...</td>\n",
       "      <td>70</td>\n",
       "      <td>0</td>\n",
       "    </tr>\n",
       "    <tr>\n",
       "      <th>424</th>\n",
       "      <td>GTGCAGAATGAATTCTCGTAACTACATAGCACAAGTAGATGTAGTT...</td>\n",
       "      <td>70</td>\n",
       "      <td>0</td>\n",
       "    </tr>\n",
       "    <tr>\n",
       "      <th>425</th>\n",
       "      <td>TTAATCAGTGTGTAACATTAGGGAGGACTTGAAAGAGCCACCACAT...</td>\n",
       "      <td>70</td>\n",
       "      <td>0</td>\n",
       "    </tr>\n",
       "    <tr>\n",
       "      <th>426</th>\n",
       "      <td>GATCGAGTGTACAGTGAACAATGCTAGGGAGAGCTGCCTATATGGA...</td>\n",
       "      <td>70</td>\n",
       "      <td>0</td>\n",
       "    </tr>\n",
       "    <tr>\n",
       "      <th>427</th>\n",
       "      <td>TTTAGTAGTGCTATCCCCATGTGATTTTAATAGCTTCTTAGGAGAA...</td>\n",
       "      <td>70</td>\n",
       "      <td>0</td>\n",
       "    </tr>\n",
       "  </tbody>\n",
       "</table>\n",
       "<p>427 rows × 3 columns</p>\n",
       "</div>"
      ],
      "text/plain": [
       "                                       Genome Sequence  Length  Match\n",
       "1    ATTAAAGGTTTATACCTTCCCAGGTAACAAACCAACCAACTTTCGA...      70      0\n",
       "2    CGAACTTTAAAATCTGTGTGGCTGTCACTCGGCTGCATGCTTAGTG...      70      0\n",
       "3    TAATTACTGTCGTTGACAGGACACGAGTAACTCGTCTATCTTCTGC...      70      0\n",
       "4    TTGCAGCCGATCATCAGCACATCTAGGTTTCGTCCGGGTGTGACCG...      70      0\n",
       "5    CCTGGTTTCAACGAGAAAACACACGTCCAACTCAGTTTGCCTGTTT...      70      0\n",
       "..                                                 ...     ...    ...\n",
       "423  CAGACCACACAAGGCAGATGGGCTATATAAACGTTTTCGCTTTTCC...      70      0\n",
       "424  GTGCAGAATGAATTCTCGTAACTACATAGCACAAGTAGATGTAGTT...      70      0\n",
       "425  TTAATCAGTGTGTAACATTAGGGAGGACTTGAAAGAGCCACCACAT...      70      0\n",
       "426  GATCGAGTGTACAGTGAACAATGCTAGGGAGAGCTGCCTATATGGA...      70      0\n",
       "427  TTTAGTAGTGCTATCCCCATGTGATTTTAATAGCTTCTTAGGAGAA...      70      0\n",
       "\n",
       "[427 rows x 3 columns]"
      ]
     },
     "execution_count": 8,
     "metadata": {},
     "output_type": "execute_result"
    }
   ],
   "source": [
    "# check if any sequence in df contains the subseq: 'TAATTTAGGCATGCCTT'\n",
    "def isSubSequence(str1, str2):\n",
    "    m = len(str1)\n",
    "    n = len(str2)\n",
    " \n",
    "    j = 0    # Index of str1\n",
    "    i = 0    # Index of str2\n",
    " \n",
    "    # Traverse both str1 and str2\n",
    "    # Compare current character of str2 with\n",
    "    # first unmatched character of str1\n",
    "    # If matched, then move ahead in str1\n",
    " \n",
    "    while j < m and i < n:\n",
    "        if str1[j] == str2[i]:\n",
    "            j = j+1\n",
    "        i = i + 1\n",
    " \n",
    "    # If all characters of str1 matched,\n",
    "    # then j is equal to m\n",
    "    return j == m\n",
    "\n",
    "\n",
    "# Drive the created function\n",
    "u = []\n",
    "str2 = \"TAATTTAGGCATGCCTT\"\n",
    "\n",
    "for i in df[\"Genome Sequence\"]:\n",
    "    if isSubSequence(i, str2):\n",
    "        u.append(1)\n",
    "    else:\n",
    "        u.append(0)\n",
    "\n",
    "df['Match'] = u\n",
    "df"
   ]
  },
  {
   "cell_type": "code",
   "execution_count": 9,
   "id": "e7f3bcf4-8e77-456f-a0b0-3937eec3162a",
   "metadata": {},
   "outputs": [
    {
     "name": "stdout",
     "output_type": "stream",
     "text": [
      "<class 'pandas.core.frame.DataFrame'>\n",
      "RangeIndex: 427 entries, 1 to 427\n",
      "Data columns (total 3 columns):\n",
      " #   Column           Non-Null Count  Dtype \n",
      "---  ------           --------------  ----- \n",
      " 0   Genome Sequence  427 non-null    object\n",
      " 1   Length           427 non-null    int64 \n",
      " 2   Match            427 non-null    int64 \n",
      "dtypes: int64(2), object(1)\n",
      "memory usage: 10.1+ KB\n"
     ]
    }
   ],
   "source": [
    "df.info()"
   ]
  },
  {
   "cell_type": "markdown",
   "id": "f52c96db-02a7-4ad4-8d2b-6948268141a5",
   "metadata": {},
   "source": [
    "# Find differences"
   ]
  },
  {
   "cell_type": "code",
   "execution_count": 10,
   "id": "01926c3f-36c4-4368-9ed3-0dce4b7a263d",
   "metadata": {},
   "outputs": [
    {
     "name": "stdout",
     "output_type": "stream",
     "text": [
      "[[ 0. 51. 50. ... 49. 51. 50.]\n",
      " [51.  0. 57. ... 53. 54. 54.]\n",
      " [50. 57.  0. ... 60. 48. 58.]\n",
      " ...\n",
      " [49. 53. 60. ...  0. 59. 48.]\n",
      " [51. 54. 48. ... 59.  0. 44.]\n",
      " [50. 54. 58. ... 48. 44.  0.]]\n"
     ]
    }
   ],
   "source": [
    "# create an array with zeros\n",
    "n = len(df['Length'])\n",
    "my_array = np.zeros((n,n))\n",
    "differences = np.zeros((n,n))\n",
    "\n",
    "# define a function to get the differneces:\n",
    "def getDifference(x, y): # x, y are the seqs\n",
    "    return sum(a != b for (a,b) in zip(x, y)) # this function counts the differences\n",
    "\n",
    "# apply the function to get the differences matrix\n",
    "for i, p in enumerate(df['Genome Sequence']):\n",
    "    for j, p2 in enumerate(df['Genome Sequence']):\n",
    "        if j >= i:\n",
    "            break\n",
    "        differences[i, j] = getDifference(p, p2)\n",
    "        differences[j, i] = differences[i, j]\n",
    "\n",
    "# print the differences matrix\n",
    "print(differences)\n"
   ]
  },
  {
   "cell_type": "code",
   "execution_count": 11,
   "id": "b48b946f-3df5-4ddd-af49-6da53f1dbcfb",
   "metadata": {},
   "outputs": [
    {
     "name": "stdout",
     "output_type": "stream",
     "text": [
      "class:  ndarray\n",
      "shape:  (427, 427)\n",
      "strides:  (3416, 8)\n",
      "itemsize:  8\n",
      "aligned:  True\n",
      "contiguous:  True\n",
      "fortran:  False\n",
      "data pointer: 0x2d49d6a4040\n",
      "byteorder:  little\n",
      "byteswap:  False\n",
      "type: float64\n"
     ]
    }
   ],
   "source": [
    "np.info(differences)"
   ]
  },
  {
   "cell_type": "code",
   "execution_count": 12,
   "id": "1f792738-0f5d-4d6f-a13d-026425bb5f52",
   "metadata": {},
   "outputs": [
    {
     "data": {
      "text/plain": [
       "0.0"
      ]
     },
     "execution_count": 12,
     "metadata": {},
     "output_type": "execute_result"
    }
   ],
   "source": [
    "np.min(my_array)"
   ]
  },
  {
   "cell_type": "markdown",
   "id": "e73adb70-4025-40f6-9a33-8605efb70ad5",
   "metadata": {},
   "source": [
    "# The simialr sequences"
   ]
  },
  {
   "cell_type": "code",
   "execution_count": 19,
   "id": "c2983109-962a-4401-ba9a-15d71db468d1",
   "metadata": {},
   "outputs": [
    {
     "name": "stdout",
     "output_type": "stream",
     "text": [
      "The two most similar genome sequences are rows (0, 0)\n",
      "\n",
      "The two most similar genome sequences are:\n",
      "ATTAAAGGTTTATACCTTCCCAGGTAACAAACCAACCAACTTTCGATCTCTTGTAGATCTGTTCTCTAAA\n",
      "ATTAAAGGTTTATACCTTCCCAGGTAACAAACCAACCAACTTTCGATCTCTTGTAGATCTGTTCTCTAAA\n"
     ]
    }
   ],
   "source": [
    "# find the two most similar genome sequences\n",
    "similar_indices = np.unravel_index(np.argmin(differences), differences.shape)\n",
    "similar = (similar_indices[0], similar_indices[1])\n",
    "print(\"The two most similar genome sequences are rows\", similar)\n",
    "print()\n",
    "print(\"The two most similar genome sequences are:\")\n",
    "print(df.iloc[similar[0]][0])\n",
    "print(df.iloc[similar[1]][0])"
   ]
  },
  {
   "cell_type": "code",
   "execution_count": null,
   "id": "6fec4687-96ca-4073-ae5a-975b1ff81f78",
   "metadata": {},
   "outputs": [],
   "source": []
  },
  {
   "cell_type": "code",
   "execution_count": null,
   "id": "c69564d1-8800-4dd7-b051-742e92ac2cf2",
   "metadata": {},
   "outputs": [],
   "source": []
  },
  {
   "cell_type": "code",
   "execution_count": null,
   "id": "ea2beee3-ae5f-4181-b675-93a92f66c57e",
   "metadata": {},
   "outputs": [],
   "source": []
  }
 ],
 "metadata": {
  "kernelspec": {
   "display_name": "Python 3 (ipykernel)",
   "language": "python",
   "name": "python3"
  },
  "language_info": {
   "codemirror_mode": {
    "name": "ipython",
    "version": 3
   },
   "file_extension": ".py",
   "mimetype": "text/x-python",
   "name": "python",
   "nbconvert_exporter": "python",
   "pygments_lexer": "ipython3",
   "version": "3.10.4"
  }
 },
 "nbformat": 4,
 "nbformat_minor": 5
}
